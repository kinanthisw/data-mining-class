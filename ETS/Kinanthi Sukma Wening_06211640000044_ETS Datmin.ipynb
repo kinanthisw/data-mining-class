{
 "cells": [
  {
   "cell_type": "code",
   "execution_count": 1,
   "metadata": {},
   "outputs": [],
   "source": [
    "import numpy as np\n",
    "import matplotlib.pyplot as plt\n",
    "import pandas as pd"
   ]
  },
  {
   "cell_type": "code",
   "execution_count": 2,
   "metadata": {},
   "outputs": [
    {
     "data": {
      "text/html": [
       "<div>\n",
       "<style scoped>\n",
       "    .dataframe tbody tr th:only-of-type {\n",
       "        vertical-align: middle;\n",
       "    }\n",
       "\n",
       "    .dataframe tbody tr th {\n",
       "        vertical-align: top;\n",
       "    }\n",
       "\n",
       "    .dataframe thead th {\n",
       "        text-align: right;\n",
       "    }\n",
       "</style>\n",
       "<table border=\"1\" class=\"dataframe\">\n",
       "  <thead>\n",
       "    <tr style=\"text-align: right;\">\n",
       "      <th></th>\n",
       "      <th>InvoiceNo</th>\n",
       "      <th>StockCode</th>\n",
       "      <th>Description</th>\n",
       "      <th>Quantity</th>\n",
       "      <th>InvoiceDate</th>\n",
       "      <th>UnitPrice</th>\n",
       "      <th>CustomerID</th>\n",
       "      <th>Country</th>\n",
       "    </tr>\n",
       "  </thead>\n",
       "  <tbody>\n",
       "    <tr>\n",
       "      <th>0</th>\n",
       "      <td>536365</td>\n",
       "      <td>85123A</td>\n",
       "      <td>WHITE HANGING HEART T-LIGHT HOLDER</td>\n",
       "      <td>6</td>\n",
       "      <td>12/1/10 08:26</td>\n",
       "      <td>2.55</td>\n",
       "      <td>17850.0</td>\n",
       "      <td>United Kingdom</td>\n",
       "    </tr>\n",
       "    <tr>\n",
       "      <th>1</th>\n",
       "      <td>536365</td>\n",
       "      <td>71053</td>\n",
       "      <td>WHITE METAL LANTERN</td>\n",
       "      <td>6</td>\n",
       "      <td>12/1/10 08:26</td>\n",
       "      <td>3.39</td>\n",
       "      <td>17850.0</td>\n",
       "      <td>United Kingdom</td>\n",
       "    </tr>\n",
       "    <tr>\n",
       "      <th>2</th>\n",
       "      <td>536365</td>\n",
       "      <td>84406B</td>\n",
       "      <td>CREAM CUPID HEARTS COAT HANGER</td>\n",
       "      <td>8</td>\n",
       "      <td>12/1/10 08:26</td>\n",
       "      <td>2.75</td>\n",
       "      <td>17850.0</td>\n",
       "      <td>United Kingdom</td>\n",
       "    </tr>\n",
       "    <tr>\n",
       "      <th>3</th>\n",
       "      <td>536365</td>\n",
       "      <td>84029G</td>\n",
       "      <td>KNITTED UNION FLAG HOT WATER BOTTLE</td>\n",
       "      <td>6</td>\n",
       "      <td>12/1/10 08:26</td>\n",
       "      <td>3.39</td>\n",
       "      <td>17850.0</td>\n",
       "      <td>United Kingdom</td>\n",
       "    </tr>\n",
       "    <tr>\n",
       "      <th>4</th>\n",
       "      <td>536365</td>\n",
       "      <td>84029E</td>\n",
       "      <td>RED WOOLLY HOTTIE WHITE HEART.</td>\n",
       "      <td>6</td>\n",
       "      <td>12/1/10 08:26</td>\n",
       "      <td>3.39</td>\n",
       "      <td>17850.0</td>\n",
       "      <td>United Kingdom</td>\n",
       "    </tr>\n",
       "  </tbody>\n",
       "</table>\n",
       "</div>"
      ],
      "text/plain": [
       "  InvoiceNo StockCode                          Description  Quantity  \\\n",
       "0    536365    85123A   WHITE HANGING HEART T-LIGHT HOLDER         6   \n",
       "1    536365     71053                  WHITE METAL LANTERN         6   \n",
       "2    536365    84406B       CREAM CUPID HEARTS COAT HANGER         8   \n",
       "3    536365    84029G  KNITTED UNION FLAG HOT WATER BOTTLE         6   \n",
       "4    536365    84029E       RED WOOLLY HOTTIE WHITE HEART.         6   \n",
       "\n",
       "     InvoiceDate  UnitPrice  CustomerID         Country  \n",
       "0  12/1/10 08:26       2.55     17850.0  United Kingdom  \n",
       "1  12/1/10 08:26       3.39     17850.0  United Kingdom  \n",
       "2  12/1/10 08:26       2.75     17850.0  United Kingdom  \n",
       "3  12/1/10 08:26       3.39     17850.0  United Kingdom  \n",
       "4  12/1/10 08:26       3.39     17850.0  United Kingdom  "
      ]
     },
     "execution_count": 2,
     "metadata": {},
     "output_type": "execute_result"
    }
   ],
   "source": [
    "dataset = pd.read_csv(\"E:/Data Mining/ETS Take Home/online_retail.csv\")\n",
    "dataset.head()"
   ]
  },
  {
   "cell_type": "markdown",
   "metadata": {},
   "source": [
    "## Exploring"
   ]
  },
  {
   "cell_type": "code",
   "execution_count": 3,
   "metadata": {},
   "outputs": [
    {
     "name": "stdout",
     "output_type": "stream",
     "text": [
      "<class 'pandas.core.frame.DataFrame'>\n",
      "RangeIndex: 541909 entries, 0 to 541908\n",
      "Data columns (total 8 columns):\n",
      "InvoiceNo      541909 non-null object\n",
      "StockCode      541909 non-null object\n",
      "Description    540455 non-null object\n",
      "Quantity       541909 non-null int64\n",
      "InvoiceDate    541909 non-null object\n",
      "UnitPrice      541909 non-null float64\n",
      "CustomerID     406829 non-null float64\n",
      "Country        541909 non-null object\n",
      "dtypes: float64(2), int64(1), object(5)\n",
      "memory usage: 33.1+ MB\n"
     ]
    }
   ],
   "source": [
    "dataset.info()"
   ]
  },
  {
   "cell_type": "code",
   "execution_count": 4,
   "metadata": {},
   "outputs": [
    {
     "data": {
      "text/html": [
       "<div>\n",
       "<style scoped>\n",
       "    .dataframe tbody tr th:only-of-type {\n",
       "        vertical-align: middle;\n",
       "    }\n",
       "\n",
       "    .dataframe tbody tr th {\n",
       "        vertical-align: top;\n",
       "    }\n",
       "\n",
       "    .dataframe thead th {\n",
       "        text-align: right;\n",
       "    }\n",
       "</style>\n",
       "<table border=\"1\" class=\"dataframe\">\n",
       "  <thead>\n",
       "    <tr style=\"text-align: right;\">\n",
       "      <th></th>\n",
       "      <th>Quantity</th>\n",
       "      <th>UnitPrice</th>\n",
       "      <th>CustomerID</th>\n",
       "    </tr>\n",
       "  </thead>\n",
       "  <tbody>\n",
       "    <tr>\n",
       "      <th>count</th>\n",
       "      <td>541909.000000</td>\n",
       "      <td>541909.000000</td>\n",
       "      <td>406829.000000</td>\n",
       "    </tr>\n",
       "    <tr>\n",
       "      <th>mean</th>\n",
       "      <td>9.552250</td>\n",
       "      <td>4.611114</td>\n",
       "      <td>15287.690570</td>\n",
       "    </tr>\n",
       "    <tr>\n",
       "      <th>std</th>\n",
       "      <td>218.081158</td>\n",
       "      <td>96.759853</td>\n",
       "      <td>1713.600303</td>\n",
       "    </tr>\n",
       "    <tr>\n",
       "      <th>min</th>\n",
       "      <td>-80995.000000</td>\n",
       "      <td>-11062.060000</td>\n",
       "      <td>12346.000000</td>\n",
       "    </tr>\n",
       "    <tr>\n",
       "      <th>25%</th>\n",
       "      <td>1.000000</td>\n",
       "      <td>1.250000</td>\n",
       "      <td>13953.000000</td>\n",
       "    </tr>\n",
       "    <tr>\n",
       "      <th>50%</th>\n",
       "      <td>3.000000</td>\n",
       "      <td>2.080000</td>\n",
       "      <td>15152.000000</td>\n",
       "    </tr>\n",
       "    <tr>\n",
       "      <th>75%</th>\n",
       "      <td>10.000000</td>\n",
       "      <td>4.130000</td>\n",
       "      <td>16791.000000</td>\n",
       "    </tr>\n",
       "    <tr>\n",
       "      <th>max</th>\n",
       "      <td>80995.000000</td>\n",
       "      <td>38970.000000</td>\n",
       "      <td>18287.000000</td>\n",
       "    </tr>\n",
       "  </tbody>\n",
       "</table>\n",
       "</div>"
      ],
      "text/plain": [
       "            Quantity      UnitPrice     CustomerID\n",
       "count  541909.000000  541909.000000  406829.000000\n",
       "mean        9.552250       4.611114   15287.690570\n",
       "std       218.081158      96.759853    1713.600303\n",
       "min    -80995.000000  -11062.060000   12346.000000\n",
       "25%         1.000000       1.250000   13953.000000\n",
       "50%         3.000000       2.080000   15152.000000\n",
       "75%        10.000000       4.130000   16791.000000\n",
       "max     80995.000000   38970.000000   18287.000000"
      ]
     },
     "execution_count": 4,
     "metadata": {},
     "output_type": "execute_result"
    }
   ],
   "source": [
    "dataset.describe()"
   ]
  },
  {
   "cell_type": "code",
   "execution_count": 5,
   "metadata": {},
   "outputs": [
    {
     "data": {
      "text/plain": [
       "25900"
      ]
     },
     "execution_count": 5,
     "metadata": {},
     "output_type": "execute_result"
    }
   ],
   "source": [
    "# Total number of transactions\n",
    "len(dataset['InvoiceNo'].unique())"
   ]
  },
  {
   "cell_type": "code",
   "execution_count": 6,
   "metadata": {},
   "outputs": [
    {
     "data": {
      "text/plain": [
       "3710"
      ]
     },
     "execution_count": 6,
     "metadata": {},
     "output_type": "execute_result"
    }
   ],
   "source": [
    "#Number of transactions with anonymous customers \n",
    "len(dataset[dataset['CustomerID'].isnull()]['InvoiceNo'].unique())"
   ]
  },
  {
   "cell_type": "code",
   "execution_count": 7,
   "metadata": {},
   "outputs": [
    {
     "data": {
      "text/plain": [
       "Description\n",
       "WORLD WAR 2 GLIDERS ASSTD DESIGNS     53847\n",
       "JUMBO BAG RED RETROSPOT               47363\n",
       "ASSORTED COLOUR BIRD ORNAMENT         36381\n",
       "POPCORN HOLDER                        36334\n",
       "PACK OF 72 RETROSPOT CAKE CASES       36039\n",
       "WHITE HANGING HEART T-LIGHT HOLDER    35317\n",
       "RABBIT NIGHT LIGHT                    30680\n",
       "MINI PAINT SET VINTAGE                26437\n",
       "PACK OF 12 LONDON TISSUES             26315\n",
       "PACK OF 60 PINK PAISLEY CAKE CASES    24753\n",
       "VICTORIAN GLASS HANGING T-LIGHT       23854\n",
       "ASSORTED COLOURS SILK FAN             23082\n",
       "BROCADE RING PURSE                    23053\n",
       "RED  HARMONICA IN BOX                 21866\n",
       "JUMBO BAG PINK POLKADOT               21009\n",
       "SMALL POPCORN HOLDER                  20116\n",
       "PAPER CHAIN KIT 50'S CHRISTMAS        18902\n",
       "LUNCH BAG RED RETROSPOT               18779\n",
       "60 TEATIME FAIRY CAKE CASES           18040\n",
       "PARTY BUNTING                         18022\n",
       "Name: Quantity, dtype: int64"
      ]
     },
     "execution_count": 7,
     "metadata": {},
     "output_type": "execute_result"
    }
   ],
   "source": [
    "# Frequently sold items by quantitiy\n",
    "gp_stockcode = dataset.groupby('Description')\n",
    "gp_stockcode_frq_quantitiy = gp_stockcode['Quantity'].agg(np.sum).sort_values(ascending=False)\n",
    "gp_stockcode_frq_quantitiy.head(20)"
   ]
  },
  {
   "cell_type": "code",
   "execution_count": 8,
   "metadata": {},
   "outputs": [
    {
     "data": {
      "text/plain": [
       "<matplotlib.axes._subplots.AxesSubplot at 0x299635e9a90>"
      ]
     },
     "execution_count": 8,
     "metadata": {},
     "output_type": "execute_result"
    },
    {
     "data": {
      "image/png": "[encoded data removed]",
      "text/plain": [
       "<Figure size 432x288 with 1 Axes>"
      ]
     },
     "metadata": {},
     "output_type": "display_data"
    }
   ],
   "source": [
    "gp_stockcode_frq_quantitiy.head(20).plot.bar()"
   ]
  },
  {
   "cell_type": "code",
   "execution_count": 9,
   "metadata": {},
   "outputs": [
    {
     "data": {
      "text/plain": [
       "Country\n",
       "United Kingdom          23494\n",
       "Germany                   603\n",
       "France                    461\n",
       "EIRE                      360\n",
       "Belgium                   119\n",
       "Spain                     105\n",
       "Netherlands               101\n",
       "Switzerland                74\n",
       "Portugal                   71\n",
       "Australia                  69\n",
       "Italy                      55\n",
       "Finland                    48\n",
       "Sweden                     46\n",
       "Norway                     40\n",
       "Channel Islands            33\n",
       "Japan                      28\n",
       "Poland                     24\n",
       "Denmark                    21\n",
       "Cyprus                     20\n",
       "Austria                    19\n",
       "Hong Kong                  15\n",
       "Unspecified                13\n",
       "Malta                      10\n",
       "Singapore                  10\n",
       "Israel                      9\n",
       "Iceland                     7\n",
       "USA                         7\n",
       "Greece                      6\n",
       "Canada                      6\n",
       "European Community          5\n",
       "Czech Republic              5\n",
       "Lithuania                   4\n",
       "Bahrain                     4\n",
       "United Arab Emirates        3\n",
       "Saudi Arabia                2\n",
       "Lebanon                     1\n",
       "RSA                         1\n",
       "Brazil                      1\n",
       "Name: InvoiceNo, dtype: int64"
      ]
     },
     "execution_count": 9,
     "metadata": {},
     "output_type": "execute_result"
    }
   ],
   "source": [
    "# Explore By Countries #\n",
    "gp_country = dataset.groupby('Country')\n",
    "# Order countries by number of invoices\n",
    "gp_country['InvoiceNo'].unique().agg(np.size).sort_values(ascending=False)"
   ]
  },
  {
   "cell_type": "code",
   "execution_count": 10,
   "metadata": {},
   "outputs": [
    {
     "data": {
      "text/plain": [
       "Country\n",
       "United Kingdom          3951\n",
       "Germany                   95\n",
       "France                    88\n",
       "Spain                     31\n",
       "Belgium                   25\n",
       "Switzerland               22\n",
       "Portugal                  20\n",
       "Italy                     15\n",
       "Finland                   12\n",
       "Austria                   11\n",
       "Norway                    10\n",
       "Netherlands                9\n",
       "Australia                  9\n",
       "Channel Islands            9\n",
       "Denmark                    9\n",
       "Cyprus                     8\n",
       "Sweden                     8\n",
       "Japan                      8\n",
       "Poland                     6\n",
       "Unspecified                5\n",
       "Israel                     5\n",
       "Greece                     4\n",
       "USA                        4\n",
       "EIRE                       4\n",
       "Canada                     4\n",
       "Bahrain                    3\n",
       "United Arab Emirates       2\n",
       "Malta                      2\n",
       "Singapore                  1\n",
       "Brazil                     1\n",
       "Iceland                    1\n",
       "Saudi Arabia               1\n",
       "Hong Kong                  1\n",
       "RSA                        1\n",
       "European Community         1\n",
       "Lithuania                  1\n",
       "Lebanon                    1\n",
       "Czech Republic             1\n",
       "Name: CustomerID, dtype: int64"
      ]
     },
     "execution_count": 10,
     "metadata": {},
     "output_type": "execute_result"
    }
   ],
   "source": [
    "# Order countries by number of customers\n",
    "gp_country['CustomerID'].unique().agg(np.size).sort_values(ascending=False)"
   ]
  },
  {
   "cell_type": "code",
   "execution_count": 11,
   "metadata": {},
   "outputs": [
    {
     "data": {
      "text/plain": [
       "Country\n",
       "United Kingdom    3637\n",
       "EIRE                41\n",
       "Hong Kong           15\n",
       "Unspecified          5\n",
       "Switzerland          3\n",
       "Israel               3\n",
       "France               3\n",
       "Bahrain              2\n",
       "Portugal             1\n",
       "Name: InvoiceNo, dtype: int64"
      ]
     },
     "execution_count": 11,
     "metadata": {},
     "output_type": "execute_result"
    }
   ],
   "source": [
    "# Work on undefined customers\n",
    "gp_country_null = dataset[dataset['CustomerID'].isnull()].groupby('Country')\n",
    "#Order countries by number of invoices [For the undefined users]\n",
    "gp_country_null['InvoiceNo'].unique().agg(np.size).sort_values(ascending=False)"
   ]
  },
  {
   "cell_type": "markdown",
   "metadata": {},
   "source": [
    "## Preprocessing"
   ]
  },
  {
   "cell_type": "code",
   "execution_count": 12,
   "metadata": {},
   "outputs": [
    {
     "data": {
      "text/plain": [
       "InvoiceNo           0\n",
       "StockCode           0\n",
       "Description      1454\n",
       "Quantity            0\n",
       "InvoiceDate         0\n",
       "UnitPrice           0\n",
       "CustomerID     135080\n",
       "Country             0\n",
       "dtype: int64"
      ]
     },
     "execution_count": 12,
     "metadata": {},
     "output_type": "execute_result"
    }
   ],
   "source": [
    "dataset.isnull().sum()"
   ]
  },
  {
   "cell_type": "code",
   "execution_count": 13,
   "metadata": {},
   "outputs": [],
   "source": [
    "dataset['Description'] = dataset['Description'].str.strip()\n",
    "dataset.dropna(axis=0, subset=['Description'], inplace=True)"
   ]
  },
  {
   "cell_type": "code",
   "execution_count": 14,
   "metadata": {},
   "outputs": [
    {
     "data": {
      "text/plain": [
       "InvoiceNo           0\n",
       "StockCode           0\n",
       "Description         0\n",
       "Quantity            0\n",
       "InvoiceDate         0\n",
       "UnitPrice           0\n",
       "CustomerID     133626\n",
       "Country             0\n",
       "dtype: int64"
      ]
     },
     "execution_count": 14,
     "metadata": {},
     "output_type": "execute_result"
    }
   ],
   "source": [
    "dataset.isnull().sum()"
   ]
  },
  {
   "cell_type": "code",
   "execution_count": 15,
   "metadata": {},
   "outputs": [],
   "source": [
    "# Set transactions\n",
    "gp_invoiceno = dataset.groupby('InvoiceNo')\n",
    "transactions = []\n",
    "for name,group in gp_invoiceno:\n",
    "    transactions.append(list(group['Description'].map(str)))"
   ]
  },
  {
   "cell_type": "code",
   "execution_count": 16,
   "metadata": {},
   "outputs": [],
   "source": [
    "# Training Apriori on the dataset\n",
    "# Needs to import https://pypi.python.org/pypi/apyori/1.0.0\n",
    "from apyori import apriori\n",
    "rules = apriori(transactions, min_support = 0.005, min_confidence = 0.2, min_lift = 3, min_length = 2)\n",
    "# Get the results\n",
    "results = list(rules)"
   ]
  },
  {
   "cell_type": "code",
   "execution_count": 17,
   "metadata": {},
   "outputs": [
    {
     "data": {
      "text/html": [
       "<div>\n",
       "<style scoped>\n",
       "    .dataframe tbody tr th:only-of-type {\n",
       "        vertical-align: middle;\n",
       "    }\n",
       "\n",
       "    .dataframe tbody tr th {\n",
       "        vertical-align: top;\n",
       "    }\n",
       "\n",
       "    .dataframe thead th {\n",
       "        text-align: right;\n",
       "    }\n",
       "</style>\n",
       "<table border=\"1\" class=\"dataframe\">\n",
       "  <thead>\n",
       "    <tr style=\"text-align: right;\">\n",
       "      <th></th>\n",
       "      <th>GeneralRules</th>\n",
       "      <th>LeftRules</th>\n",
       "      <th>RightRules</th>\n",
       "      <th>Support</th>\n",
       "      <th>Confidence</th>\n",
       "      <th>Lift</th>\n",
       "    </tr>\n",
       "  </thead>\n",
       "  <tbody>\n",
       "    <tr>\n",
       "      <th>5642</th>\n",
       "      <td>HERB MARKER PARSLEY _&amp;&amp;_ HERB MARKER CHIVES _&amp;...</td>\n",
       "      <td>HERB MARKER ROSEMARY _&amp;&amp;_ HERB MARKER PARSLEY ...</td>\n",
       "      <td>HERB MARKER THYME</td>\n",
       "      <td>0.006790</td>\n",
       "      <td>0.988095</td>\n",
       "      <td>101.491497</td>\n",
       "    </tr>\n",
       "    <tr>\n",
       "      <th>5682</th>\n",
       "      <td>HERB MARKER PARSLEY _&amp;&amp;_ HERB MARKER CHIVES _&amp;...</td>\n",
       "      <td>HERB MARKER PARSLEY _&amp;&amp;_ HERB MARKER CHIVES _&amp;...</td>\n",
       "      <td>HERB MARKER THYME</td>\n",
       "      <td>0.006463</td>\n",
       "      <td>0.987500</td>\n",
       "      <td>101.430357</td>\n",
       "    </tr>\n",
       "    <tr>\n",
       "      <th>5272</th>\n",
       "      <td>HERB MARKER THYME _&amp;&amp;_ HERB MARKER ROSEMARY _&amp;...</td>\n",
       "      <td>HERB MARKER ROSEMARY _&amp;&amp;_ HERB MARKER BASIL _&amp;...</td>\n",
       "      <td>HERB MARKER THYME</td>\n",
       "      <td>0.006913</td>\n",
       "      <td>0.982558</td>\n",
       "      <td>100.922757</td>\n",
       "    </tr>\n",
       "    <tr>\n",
       "      <th>5641</th>\n",
       "      <td>HERB MARKER CHIVES _&amp;&amp;_ HERB MARKER MINT _&amp;&amp;_ ...</td>\n",
       "      <td>HERB MARKER MINT _&amp;&amp;_ HERB MARKER ROSEMARY _&amp;&amp;...</td>\n",
       "      <td>HERB MARKER THYME</td>\n",
       "      <td>0.006504</td>\n",
       "      <td>0.981481</td>\n",
       "      <td>100.812169</td>\n",
       "    </tr>\n",
       "    <tr>\n",
       "      <th>5280</th>\n",
       "      <td>HERB MARKER THYME _&amp;&amp;_ HERB MARKER ROSEMARY _&amp;...</td>\n",
       "      <td>HERB MARKER ROSEMARY _&amp;&amp;_ HERB MARKER PARSLEY ...</td>\n",
       "      <td>HERB MARKER THYME</td>\n",
       "      <td>0.007322</td>\n",
       "      <td>0.972826</td>\n",
       "      <td>99.923137</td>\n",
       "    </tr>\n",
       "    <tr>\n",
       "      <th>5267</th>\n",
       "      <td>HERB MARKER MINT _&amp;&amp;_ HERB MARKER PARSLEY _&amp;&amp;_...</td>\n",
       "      <td>HERB MARKER MINT _&amp;&amp;_ HERB MARKER BASIL _&amp;&amp;_ H...</td>\n",
       "      <td>HERB MARKER PARSLEY</td>\n",
       "      <td>0.006831</td>\n",
       "      <td>0.976608</td>\n",
       "      <td>99.891899</td>\n",
       "    </tr>\n",
       "    <tr>\n",
       "      <th>5644</th>\n",
       "      <td>HERB MARKER PARSLEY _&amp;&amp;_ HERB MARKER CHIVES _&amp;...</td>\n",
       "      <td>HERB MARKER ROSEMARY _&amp;&amp;_ HERB MARKER MINT _&amp;&amp;...</td>\n",
       "      <td>HERB MARKER THYME</td>\n",
       "      <td>0.006954</td>\n",
       "      <td>0.971429</td>\n",
       "      <td>99.779592</td>\n",
       "    </tr>\n",
       "    <tr>\n",
       "      <th>5643</th>\n",
       "      <td>HERB MARKER PARSLEY _&amp;&amp;_ HERB MARKER MINT _&amp;&amp;_...</td>\n",
       "      <td>HERB MARKER MINT _&amp;&amp;_ HERB MARKER PARSLEY _&amp;&amp;_...</td>\n",
       "      <td>HERB MARKER THYME</td>\n",
       "      <td>0.007077</td>\n",
       "      <td>0.966480</td>\n",
       "      <td>99.271349</td>\n",
       "    </tr>\n",
       "    <tr>\n",
       "      <th>5279</th>\n",
       "      <td>HERB MARKER THYME _&amp;&amp;_ HERB MARKER MINT _&amp;&amp;_ H...</td>\n",
       "      <td>HERB MARKER MINT _&amp;&amp;_ HERB MARKER ROSEMARY _&amp;&amp;...</td>\n",
       "      <td>HERB MARKER THYME</td>\n",
       "      <td>0.007036</td>\n",
       "      <td>0.966292</td>\n",
       "      <td>99.252006</td>\n",
       "    </tr>\n",
       "    <tr>\n",
       "      <th>5271</th>\n",
       "      <td>HERB MARKER THYME _&amp;&amp;_ HERB MARKER PARSLEY _&amp;&amp;...</td>\n",
       "      <td>HERB MARKER PARSLEY _&amp;&amp;_ HERB MARKER BASIL _&amp;&amp;...</td>\n",
       "      <td>HERB MARKER THYME</td>\n",
       "      <td>0.006954</td>\n",
       "      <td>0.965909</td>\n",
       "      <td>99.212662</td>\n",
       "    </tr>\n",
       "    <tr>\n",
       "      <th>5640</th>\n",
       "      <td>HERB MARKER PARSLEY _&amp;&amp;_ HERB MARKER CHIVES _&amp;...</td>\n",
       "      <td>HERB MARKER MINT _&amp;&amp;_ HERB MARKER PARSLEY _&amp;&amp;_...</td>\n",
       "      <td>HERB MARKER THYME</td>\n",
       "      <td>0.006586</td>\n",
       "      <td>0.964072</td>\n",
       "      <td>99.023952</td>\n",
       "    </tr>\n",
       "    <tr>\n",
       "      <th>3787</th>\n",
       "      <td>HERB MARKER THYME _&amp;&amp;_ HERB MARKER ROSEMARY _&amp;...</td>\n",
       "      <td>HERB MARKER ROSEMARY _&amp;&amp;_ HERB MARKER CHIVES</td>\n",
       "      <td>HERB MARKER THYME</td>\n",
       "      <td>0.007486</td>\n",
       "      <td>0.963158</td>\n",
       "      <td>98.930075</td>\n",
       "    </tr>\n",
       "    <tr>\n",
       "      <th>2637</th>\n",
       "      <td>SET/6 COLLAGE PAPER PLATES _&amp;&amp;_ SET/6 COLLAGE ...</td>\n",
       "      <td>SET/6 COLLAGE PAPER CUPS</td>\n",
       "      <td>SET/6 COLLAGE PAPER PLATES</td>\n",
       "      <td>0.006627</td>\n",
       "      <td>0.890110</td>\n",
       "      <td>98.907393</td>\n",
       "    </tr>\n",
       "    <tr>\n",
       "      <th>2115</th>\n",
       "      <td>PACK OF 6 SKULL PAPER PLATES _&amp;&amp;_ PACK OF 6 SK...</td>\n",
       "      <td>PACK OF 6 SKULL PAPER CUPS</td>\n",
       "      <td>PACK OF 6 SKULL PAPER PLATES</td>\n",
       "      <td>0.005522</td>\n",
       "      <td>0.780347</td>\n",
       "      <td>98.841235</td>\n",
       "    </tr>\n",
       "    <tr>\n",
       "      <th>3782</th>\n",
       "      <td>HERB MARKER MINT _&amp;&amp;_ HERB MARKER PARSLEY _&amp;&amp;_...</td>\n",
       "      <td>HERB MARKER MINT _&amp;&amp;_ HERB MARKER CHIVES</td>\n",
       "      <td>HERB MARKER PARSLEY</td>\n",
       "      <td>0.007527</td>\n",
       "      <td>0.963351</td>\n",
       "      <td>98.535872</td>\n",
       "    </tr>\n",
       "    <tr>\n",
       "      <th>5276</th>\n",
       "      <td>HERB MARKER THYME _&amp;&amp;_ HERB MARKER PARSLEY _&amp;&amp;...</td>\n",
       "      <td>HERB MARKER PARSLEY _&amp;&amp;_ HERB MARKER BASIL _&amp;&amp;...</td>\n",
       "      <td>HERB MARKER THYME</td>\n",
       "      <td>0.007650</td>\n",
       "      <td>0.958974</td>\n",
       "      <td>98.500366</td>\n",
       "    </tr>\n",
       "    <tr>\n",
       "      <th>3773</th>\n",
       "      <td>HERB MARKER PARSLEY _&amp;&amp;_ HERB MARKER BASIL _&amp;&amp;...</td>\n",
       "      <td>HERB MARKER BASIL _&amp;&amp;_ HERB MARKER CHIVES</td>\n",
       "      <td>HERB MARKER PARSLEY</td>\n",
       "      <td>0.007200</td>\n",
       "      <td>0.961749</td>\n",
       "      <td>98.371996</td>\n",
       "    </tr>\n",
       "    <tr>\n",
       "      <th>5269</th>\n",
       "      <td>HERB MARKER THYME _&amp;&amp;_ HERB MARKER MINT _&amp;&amp;_ H...</td>\n",
       "      <td>HERB MARKER MINT _&amp;&amp;_ HERB MARKER BASIL _&amp;&amp;_ H...</td>\n",
       "      <td>HERB MARKER THYME</td>\n",
       "      <td>0.006668</td>\n",
       "      <td>0.953216</td>\n",
       "      <td>97.908939</td>\n",
       "    </tr>\n",
       "    <tr>\n",
       "      <th>3775</th>\n",
       "      <td>HERB MARKER THYME _&amp;&amp;_ HERB MARKER BASIL _&amp;&amp;_ ...</td>\n",
       "      <td>HERB MARKER BASIL _&amp;&amp;_ HERB MARKER CHIVES</td>\n",
       "      <td>HERB MARKER THYME</td>\n",
       "      <td>0.007118</td>\n",
       "      <td>0.950820</td>\n",
       "      <td>97.662763</td>\n",
       "    </tr>\n",
       "    <tr>\n",
       "      <th>633</th>\n",
       "      <td>DOLLY GIRL CHILDRENS BOWL _&amp;&amp;_ DOLLY GIRL CHIL...</td>\n",
       "      <td>DOLLY GIRL CHILDRENS BOWL</td>\n",
       "      <td>DOLLY GIRL CHILDRENS CUP</td>\n",
       "      <td>0.006300</td>\n",
       "      <td>0.789744</td>\n",
       "      <td>97.505413</td>\n",
       "    </tr>\n",
       "  </tbody>\n",
       "</table>\n",
       "</div>"
      ],
      "text/plain": [
       "                                           GeneralRules  \\\n",
       "5642  HERB MARKER PARSLEY _&&_ HERB MARKER CHIVES _&...   \n",
       "5682  HERB MARKER PARSLEY _&&_ HERB MARKER CHIVES _&...   \n",
       "5272  HERB MARKER THYME _&&_ HERB MARKER ROSEMARY _&...   \n",
       "5641  HERB MARKER CHIVES _&&_ HERB MARKER MINT _&&_ ...   \n",
       "5280  HERB MARKER THYME _&&_ HERB MARKER ROSEMARY _&...   \n",
       "5267  HERB MARKER MINT _&&_ HERB MARKER PARSLEY _&&_...   \n",
       "5644  HERB MARKER PARSLEY _&&_ HERB MARKER CHIVES _&...   \n",
       "5643  HERB MARKER PARSLEY _&&_ HERB MARKER MINT _&&_...   \n",
       "5279  HERB MARKER THYME _&&_ HERB MARKER MINT _&&_ H...   \n",
       "5271  HERB MARKER THYME _&&_ HERB MARKER PARSLEY _&&...   \n",
       "5640  HERB MARKER PARSLEY _&&_ HERB MARKER CHIVES _&...   \n",
       "3787  HERB MARKER THYME _&&_ HERB MARKER ROSEMARY _&...   \n",
       "2637  SET/6 COLLAGE PAPER PLATES _&&_ SET/6 COLLAGE ...   \n",
       "2115  PACK OF 6 SKULL PAPER PLATES _&&_ PACK OF 6 SK...   \n",
       "3782  HERB MARKER MINT _&&_ HERB MARKER PARSLEY _&&_...   \n",
       "5276  HERB MARKER THYME _&&_ HERB MARKER PARSLEY _&&...   \n",
       "3773  HERB MARKER PARSLEY _&&_ HERB MARKER BASIL _&&...   \n",
       "5269  HERB MARKER THYME _&&_ HERB MARKER MINT _&&_ H...   \n",
       "3775  HERB MARKER THYME _&&_ HERB MARKER BASIL _&&_ ...   \n",
       "633   DOLLY GIRL CHILDRENS BOWL _&&_ DOLLY GIRL CHIL...   \n",
       "\n",
       "                                              LeftRules  \\\n",
       "5642  HERB MARKER ROSEMARY _&&_ HERB MARKER PARSLEY ...   \n",
       "5682  HERB MARKER PARSLEY _&&_ HERB MARKER CHIVES _&...   \n",
       "5272  HERB MARKER ROSEMARY _&&_ HERB MARKER BASIL _&...   \n",
       "5641  HERB MARKER MINT _&&_ HERB MARKER ROSEMARY _&&...   \n",
       "5280  HERB MARKER ROSEMARY _&&_ HERB MARKER PARSLEY ...   \n",
       "5267  HERB MARKER MINT _&&_ HERB MARKER BASIL _&&_ H...   \n",
       "5644  HERB MARKER ROSEMARY _&&_ HERB MARKER MINT _&&...   \n",
       "5643  HERB MARKER MINT _&&_ HERB MARKER PARSLEY _&&_...   \n",
       "5279  HERB MARKER MINT _&&_ HERB MARKER ROSEMARY _&&...   \n",
       "5271  HERB MARKER PARSLEY _&&_ HERB MARKER BASIL _&&...   \n",
       "5640  HERB MARKER MINT _&&_ HERB MARKER PARSLEY _&&_...   \n",
       "3787       HERB MARKER ROSEMARY _&&_ HERB MARKER CHIVES   \n",
       "2637                           SET/6 COLLAGE PAPER CUPS   \n",
       "2115                         PACK OF 6 SKULL PAPER CUPS   \n",
       "3782           HERB MARKER MINT _&&_ HERB MARKER CHIVES   \n",
       "5276  HERB MARKER PARSLEY _&&_ HERB MARKER BASIL _&&...   \n",
       "3773          HERB MARKER BASIL _&&_ HERB MARKER CHIVES   \n",
       "5269  HERB MARKER MINT _&&_ HERB MARKER BASIL _&&_ H...   \n",
       "3775          HERB MARKER BASIL _&&_ HERB MARKER CHIVES   \n",
       "633                           DOLLY GIRL CHILDRENS BOWL   \n",
       "\n",
       "                        RightRules   Support  Confidence        Lift  \n",
       "5642             HERB MARKER THYME  0.006790    0.988095  101.491497  \n",
       "5682             HERB MARKER THYME  0.006463    0.987500  101.430357  \n",
       "5272             HERB MARKER THYME  0.006913    0.982558  100.922757  \n",
       "5641             HERB MARKER THYME  0.006504    0.981481  100.812169  \n",
       "5280             HERB MARKER THYME  0.007322    0.972826   99.923137  \n",
       "5267           HERB MARKER PARSLEY  0.006831    0.976608   99.891899  \n",
       "5644             HERB MARKER THYME  0.006954    0.971429   99.779592  \n",
       "5643             HERB MARKER THYME  0.007077    0.966480   99.271349  \n",
       "5279             HERB MARKER THYME  0.007036    0.966292   99.252006  \n",
       "5271             HERB MARKER THYME  0.006954    0.965909   99.212662  \n",
       "5640             HERB MARKER THYME  0.006586    0.964072   99.023952  \n",
       "3787             HERB MARKER THYME  0.007486    0.963158   98.930075  \n",
       "2637    SET/6 COLLAGE PAPER PLATES  0.006627    0.890110   98.907393  \n",
       "2115  PACK OF 6 SKULL PAPER PLATES  0.005522    0.780347   98.841235  \n",
       "3782           HERB MARKER PARSLEY  0.007527    0.963351   98.535872  \n",
       "5276             HERB MARKER THYME  0.007650    0.958974   98.500366  \n",
       "3773           HERB MARKER PARSLEY  0.007200    0.961749   98.371996  \n",
       "5269             HERB MARKER THYME  0.006668    0.953216   97.908939  \n",
       "3775             HERB MARKER THYME  0.007118    0.950820   97.662763  \n",
       "633       DOLLY GIRL CHILDRENS CUP  0.006300    0.789744   97.505413  "
      ]
     },
     "execution_count": 17,
     "metadata": {},
     "output_type": "execute_result"
    }
   ],
   "source": [
    "# Visualising the result as a readeable dataframe\n",
    "final_results = pd.DataFrame(np.random.randint(low=0, high=1, size=(len(results), 6)), columns=['GeneralRules', 'LeftRules', 'RightRules', 'Support', 'Confidence', 'Lift'])\n",
    "index = 0\n",
    "for g, s, i in results:\n",
    "    final_results.iloc[index] = [' _&&_ '.join(list(g)), ' _&&_ '.join(list(i[0][0])), ' _&&_ '.join(list(i[0][1])), s, i[0][2], i[0][3]]\n",
    "    index = index+1\n",
    "# The most significant rules\n",
    "final_results = final_results.sort_values('Lift', ascending=0)\n",
    "final_results.head(20)"
   ]
  },
  {
   "cell_type": "code",
   "execution_count": 18,
   "metadata": {},
   "outputs": [
    {
     "name": "stdout",
     "output_type": "stream",
     "text": [
      "Rule #1:\n",
      "HERB MARKER ROSEMARY _&&_ HERB MARKER PARSLEY _&&_ HERB MARKER BASIL _&&_ HERB MARKER CHIVES\n",
      "=> HERB MARKER THYME\n",
      "Support: 0.006790476969647386 - Confidence: 0.9880952380952381 - Lift: 101.49149659863946\n",
      "--------------------\n",
      "Rule #2:\n",
      "HERB MARKER PARSLEY _&&_ HERB MARKER CHIVES _&&_ HERB MARKER MINT _&&_ HERB MARKER BASIL _&&_ HERB MARKER ROSEMARY\n",
      "=> HERB MARKER THYME\n",
      "Support: 0.006463225067495705 - Confidence: 0.9875 - Lift: 101.43035714285715\n",
      "--------------------\n",
      "Rule #3:\n",
      "HERB MARKER ROSEMARY _&&_ HERB MARKER BASIL _&&_ HERB MARKER CHIVES\n",
      "=> HERB MARKER THYME\n",
      "Support: 0.006913196432954267 - Confidence: 0.9825581395348838 - Lift: 100.92275747508307\n",
      "--------------------\n",
      "Rule #4:\n",
      "HERB MARKER MINT _&&_ HERB MARKER ROSEMARY _&&_ HERB MARKER BASIL _&&_ HERB MARKER CHIVES\n",
      "=> HERB MARKER THYME\n",
      "Support: 0.006504131555264665 - Confidence: 0.9814814814814814 - Lift: 100.8121693121693\n",
      "--------------------\n",
      "Rule #5:\n",
      "HERB MARKER ROSEMARY _&&_ HERB MARKER PARSLEY _&&_ HERB MARKER CHIVES\n",
      "=> HERB MARKER THYME\n",
      "Support: 0.007322261310643868 - Confidence: 0.9728260869565218 - Lift: 99.92313664596274\n",
      "--------------------\n",
      "Rule #6:\n",
      "HERB MARKER MINT _&&_ HERB MARKER BASIL _&&_ HERB MARKER CHIVES\n",
      "=> HERB MARKER PARSLEY\n",
      "Support: 0.006831383457416346 - Confidence: 0.9766081871345028 - Lift: 99.89189850497931\n",
      "--------------------\n",
      "Rule #7:\n",
      "HERB MARKER ROSEMARY _&&_ HERB MARKER MINT _&&_ HERB MARKER PARSLEY _&&_ HERB MARKER CHIVES\n",
      "=> HERB MARKER THYME\n",
      "Support: 0.006954102920723227 - Confidence: 0.9714285714285715 - Lift: 99.77959183673471\n",
      "--------------------\n",
      "Rule #8:\n",
      "HERB MARKER MINT _&&_ HERB MARKER PARSLEY _&&_ HERB MARKER BASIL _&&_ HERB MARKER ROSEMARY\n",
      "=> HERB MARKER THYME\n",
      "Support: 0.007076822384030107 - Confidence: 0.9664804469273742 - Lift: 99.27134876296887\n",
      "--------------------\n",
      "Rule #9:\n",
      "HERB MARKER MINT _&&_ HERB MARKER ROSEMARY _&&_ HERB MARKER CHIVES\n",
      "=> HERB MARKER THYME\n",
      "Support: 0.007035915896261147 - Confidence: 0.9662921348314607 - Lift: 99.25200642054575\n",
      "--------------------\n",
      "Rule #10:\n",
      "HERB MARKER PARSLEY _&&_ HERB MARKER BASIL _&&_ HERB MARKER CHIVES\n",
      "=> HERB MARKER THYME\n",
      "Support: 0.006954102920723227 - Confidence: 0.965909090909091 - Lift: 99.21266233766235\n",
      "--------------------\n"
     ]
    }
   ],
   "source": [
    "count=1\n",
    "for i, d in final_results.head(10).iterrows():\n",
    "    print('Rule #'+str(count)+':')\n",
    "    print(d['LeftRules'])\n",
    "    print('=> '+d['RightRules'])\n",
    "    print('Support: '+str(d['Support'])+' - Confidence: '+str(d['Confidence'])+' - Lift: '+str(d['Lift']))\n",
    "    print('--------------------')\n",
    "    count=count+1"
   ]
  },
  {
   "cell_type": "code",
   "execution_count": 20,
   "metadata": {},
   "outputs": [
    {
     "data": {
      "image/png": "[encoded data removed]",
      "text/plain": [
       "<Figure size 1008x576 with 2 Axes>"
      ]
     },
     "metadata": {},
     "output_type": "display_data"
    }
   ],
   "source": [
    "# Visualizing the rules distribution color mapped by Lift\n",
    "plt.figure(figsize=(14, 8))\n",
    "plt.scatter(final_results['Support'], final_results['Confidence'], c=final_results['Lift'], alpha=0.9, cmap='YlOrRd');\n",
    "plt.title('Rules distribution color mapped by lift');\n",
    "plt.xlabel('Support')\n",
    "plt.ylabel('Confidence')\n",
    "plt.colorbar();"
   ]
  }
 ],
 "metadata": {
  "kernelspec": {
   "display_name": "Python 3",
   "language": "python",
   "name": "python3"
  },
  "language_info": {
   "codemirror_mode": {
    "name": "ipython",
    "version": 3
   },
   "file_extension": ".py",
   "mimetype": "text/x-python",
   "name": "python",
   "nbconvert_exporter": "python",
   "pygments_lexer": "ipython3",
   "version": "3.6.8"
  }
 },
 "nbformat": 4,
 "nbformat_minor": 2
}
